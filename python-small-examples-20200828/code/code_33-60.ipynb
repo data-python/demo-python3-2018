{
 "cells": [
  {
   "cell_type": "code",
   "execution_count": 10,
   "outputs": [
    {
     "name": "stdout",
     "text": [
      "True\nTrue\n"
     ],
     "output_type": "stream"
    }
   ],
   "source": [
    "# 检查对象是否可被调用\n",
    "print(callable(str))\n",
    "# True\n",
    "\n",
    "print(callable(int))\n",
    "# True"
   ],
   "metadata": {
    "collapsed": false,
    "pycharm": {
     "name": "#%%\n",
     "is_executing": false
    }
   }
  },
  {
   "cell_type": "code",
   "execution_count": 11,
   "outputs": [
    {
     "data": {
      "text/plain": "False"
     },
     "metadata": {},
     "output_type": "execute_result",
     "execution_count": 11
    }
   ],
   "source": [
    "class Student():\n",
    "\tdef __init__(self, id, name): \n",
    "\t\tself.id = id\n",
    "\t\tself.name = name\n",
    "        \n",
    "\tdef __repr__(self): \n",
    "\t\treturn 'id = '+self.id +', name = '+self.name \n",
    "\n",
    "xiaoming = Student('001','xiaoming')                                   \n",
    "\n",
    "callable(xiaoming)                                                     \n",
    "# 输出 False"
   ],
   "metadata": {
    "collapsed": false,
    "pycharm": {
     "name": "#%%\n",
     "is_executing": false
    }
   }
  },
  {
   "cell_type": "code",
   "execution_count": 12,
   "outputs": [],
   "source": [
    "# 如果能调用`xiaoming()`, 需要重写`Student`类的`__call__`方法：\n"
   ],
   "metadata": {
    "collapsed": false,
    "pycharm": {
     "name": "#%%\n",
     "is_executing": false
    }
   }
  },
  {
   "cell_type": "code",
   "execution_count": 13,
   "metadata": {
    "collapsed": true,
    "pycharm": {
     "is_executing": false
    }
   },
   "outputs": [
    {
     "traceback": [
      "\u001b[1;36m  File \u001b[1;32m\"<ipython-input-13-bb2dcf442694>\"\u001b[1;36m, line \u001b[1;32m7\u001b[0m\n\u001b[1;33m    def __repr__(self):\u001b[0m\n\u001b[1;37m                       ^\u001b[0m\n\u001b[1;31mTabError\u001b[0m\u001b[1;31m:\u001b[0m inconsistent use of tabs and spaces in indentation\n"
     ],
     "ename": "TabError",
     "evalue": "inconsistent use of tabs and spaces in indentation (<ipython-input-13-bb2dcf442694>, line 7)",
     "output_type": "error"
    }
   ],
   "source": [
    "# 判断*object*是否为类*classinfo*的实例，是返回true\n",
    "\n",
    "class Student():\n",
    "   def __init__(self,id, name):\n",
    "        self.id = id\n",
    "        self.name = name\n",
    "\tdef __repr__(self):\n",
    "\t\treturn 'id = '+self.id +', name = '+self.name\n",
    "\n",
    "# Student(id='001',name='xiaoming')\n",
    "\n",
    "# isinstance(xiaoming, Student)\n",
    "# True\n",
    "\n",
    "\n",
    "\n",
    "\n",
    "\n"
   ]
  }
 ],
 "metadata": {
  "language_info": {
   "codemirror_mode": {
    "name": "ipython",
    "version": 2
   },
   "file_extension": ".py",
   "mimetype": "text/x-python",
   "name": "python",
   "nbconvert_exporter": "python",
   "pygments_lexer": "ipython2",
   "version": "2.7.6"
  },
  "kernelspec": {
   "name": "python3",
   "language": "python",
   "display_name": "Python 3"
  },
  "pycharm": {
   "stem_cell": {
    "cell_type": "raw",
    "source": [],
    "metadata": {
     "collapsed": false
    }
   }
  }
 },
 "nbformat": 4,
 "nbformat_minor": 0
}