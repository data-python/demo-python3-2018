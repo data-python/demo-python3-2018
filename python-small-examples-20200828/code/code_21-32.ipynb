{
 "cells": [
  {
   "cell_type": "code",
   "execution_count": 58,
   "metadata": {
    "collapsed": true,
    "pycharm": {
     "is_executing": false,
     "name": "#%%\n"
    }
   },
   "outputs": [
    {
     "data": {
      "text/plain": "<function __main__.excepter.<locals>.wrapper()>"
     },
     "metadata": {},
     "output_type": "execute_result",
     "execution_count": 58
    }
   ],
   "source": [
    "# nonlocal用于内嵌函数中\n",
    "\n",
    "\n",
    "'''\n",
    "关键词`nonlocal`常用于函数嵌套中，声明变量`i`为非局部变量；\n",
    "如果不声明，`i+=1`表明`i`为函数`wrapper`内的局部变量，因为在`i+=1`引用(reference)时,i未被声明，所以会报`unreferenced variable`的错误。\n",
    "'''\n",
    "\n",
    "import time\n",
    "# n = 12\n",
    "\n",
    "def excepter(f):\n",
    "    i = 0\n",
    "    t1 = time.time()\n",
    "    def wrapper(): \n",
    "        try:\n",
    "            f()\n",
    "        except Exception as e:\n",
    "            nonlocal i\n",
    "            i += 1\n",
    "            print(f'{e.args[0]}: {i}')\n",
    "            t2 = time.time()\n",
    "            \n",
    "            # 这里报错??\n",
    "            if i == n:\n",
    "                print(f'spending time:{round(t2-t1,2)}')\n",
    "    return wrapper\n",
    "\n",
    "def do_nothing():\n",
    "    pass\n",
    "    \n",
    "excepter(do_nothing())\n",
    "\n",
    "# 输出 <function __main__.excepter.<locals>.wrapper()>\n",
    "\n"
   ]
  },
  {
   "cell_type": "code",
   "execution_count": 59,
   "outputs": [
    {
     "name": "stdout",
     "text": [
      "5\n5\n"
     ],
     "output_type": "stream"
    }
   ],
   "source": [
    "# global 声明全局变量\n",
    "# 先回答为什么要有`global`，一个变量被多个函数引用，想让全局变量被所有函数共享。有的伙伴可能会想这还不简单，这样写：\n",
    "i = 5\n",
    "def f():\n",
    "    print(i)\n",
    "\n",
    "def g():\n",
    "    print(i)\n",
    "    pass\n",
    "\n",
    "f()\n",
    "g()\n",
    "\n",
    "\n"
   ],
   "metadata": {
    "collapsed": false,
    "pycharm": {
     "name": "#%%\n",
     "is_executing": false
    }
   }
  },
  {
   "cell_type": "code",
   "execution_count": 60,
   "outputs": [],
   "source": [
    "# f和g两个函数都能共享变量`i`，程序没有报错，所以他们依然不明白为什么要用`global`.\n",
    "\n",
    "# 但是，如果我想要有个函数对`i`递增，这样：\n",
    "\n",
    "\n",
    "# i = 5\n",
    "# def h():\n",
    "#     i += 1\n",
    "# h()\n",
    "\n",
    "\n",
    "\n",
    "# 此时执行程序，bang, 出错了！ 抛出异常：`UnboundLocalError`，原来编译器在解释`i+=1`时会把`i`解析为函数`h()`内的局部变量，很显然在此函数内，编译器找不到对变量`i`的定义，所以会报错。"
   ],
   "metadata": {
    "collapsed": false,
    "pycharm": {
     "name": "#%%\n",
     "is_executing": false
    }
   }
  },
  {
   "cell_type": "code",
   "source": [
    "# `global`就是为解决此问题而被提出，在函数h内，显式地告诉编译器`i`为全局变量，然后编译器会在函数外面寻找`i`的定义，执行完`i+=1`后，`i`还为全局变量，值加1：\n",
    "\n",
    "i = 0\n",
    "def h():\n",
    "    global i\n",
    "    i += 1\n",
    "\n",
    "h()\n",
    "print(i)\n"
   ],
   "metadata": {
    "collapsed": false,
    "pycharm": {
     "name": "#%% \n",
     "is_executing": false
    }
   },
   "execution_count": 61,
   "outputs": [
    {
     "name": "stdout",
     "text": [
      "1\n"
     ],
     "output_type": "stream"
    }
   ]
  },
  {
   "cell_type": "code",
   "execution_count": 62,
   "outputs": [
    {
     "name": "stdout",
     "text": [
      "(0, 1)\n"
     ],
     "output_type": "stream"
    }
   ],
   "source": [
    "# 交换两元素\n",
    "\n",
    "\n",
    "def swap(a, b):\n",
    "    return b, a\n",
    "\n",
    "\n",
    "print(swap(1, 0))  # (0,1)\n"
   ],
   "metadata": {
    "collapsed": false,
    "pycharm": {
     "name": "#%%\n",
     "is_executing": false
    }
   }
  },
  {
   "cell_type": "code",
   "execution_count": 63,
   "outputs": [
    {
     "name": "stdout",
     "text": [
      "i'm g\n"
     ],
     "output_type": "stream"
    }
   ],
   "source": [
    "# 操作函数对象\n",
    "\n",
    "def f():\n",
    "    print('i\\'m f')\n",
    "\n",
    "\n",
    "def g():\n",
    "    print('i\\'m g')\n",
    "\n",
    "\n",
    "[f,g][1]()\n",
    "# i'm g\n",
    "\n",
    "\n",
    "# 创建函数对象的list，根据想要调用的index，方便统一调用。\n"
   ],
   "metadata": {
    "collapsed": false,
    "pycharm": {
     "name": "#%%\n",
     "is_executing": false
    }
   }
  },
  {
   "cell_type": "code",
   "execution_count": 64,
   "outputs": [
    {
     "data": {
      "text/plain": "[10, 9, 8, 7, 6, 5, 4, 3, 2, 1, 0]"
     },
     "metadata": {},
     "output_type": "execute_result",
     "execution_count": 64
    }
   ],
   "source": [
    "# 生成逆序序列\n",
    "\n",
    "\n",
    "list(range(10,-1,-1)) # [10, 9, 8, 7, 6, 5, 4, 3, 2, 1, 0]\n",
    "\n",
    "\n",
    "# 第三个参数为负时，表示从第一个参数开始递减，终止到第二个参数(不包括此边界)\n"
   ],
   "metadata": {
    "collapsed": false,
    "pycharm": {
     "name": "#%%\n",
     "is_executing": false
    }
   }
  },
  {
   "cell_type": "code",
   "execution_count": 65,
   "outputs": [],
   "source": [
    "# 函数的五类参数使用例子\n",
    "\n",
    "# python五类参数：位置参数，关键字参数，默认参数，可变位置或关键字参数的使用。\n",
    "\n",
    "def f(a,*b,c=10,**d):\n",
    "  print(f'a:{a},b:{b},c:{c},d:{d}')"
   ],
   "metadata": {
    "collapsed": false,
    "pycharm": {
     "name": "#%%\n",
     "is_executing": false
    }
   }
  },
  {
   "cell_type": "code",
   "execution_count": 66,
   "outputs": [
    {
     "name": "stdout",
     "text": [
      "a:1,b:(2, 5),c:10,d:{'width': 10, 'height': 20}\n"
     ],
     "output_type": "stream"
    }
   ],
   "source": [
    "# *默认参数`c`不能位于可变关键字参数`d`后.*\n",
    "\n",
    "# 调用f:\n",
    "\n",
    "f(1,2,5,width=10,height=20)\n",
    "# 输出 a:1,b:(2, 5),c:10,d:{'width': 10, 'height': 20}"
   ],
   "metadata": {
    "collapsed": false,
    "pycharm": {
     "name": "#%%\n",
     "is_executing": false
    }
   }
  },
  {
   "cell_type": "code",
   "execution_count": 67,
   "outputs": [
    {
     "name": "stdout",
     "text": [
      "a:1,b:(),c:12,d:{}\na:1,b:{}\n"
     ],
     "output_type": "stream"
    }
   ],
   "source": [
    "# 可变位置参数`b`实参后被解析为元组`(2,5)`;而c取得默认值10; d被解析为字典.\n",
    "\n",
    "# 再次调用f:\n",
    "\n",
    "f(a=1,c=12)\n",
    "# a:1,b:(),c:12,d:{}\n",
    "\n",
    "\n",
    "# a=1传入时a就是关键字参数，b,d都未传值，c被传入12，而非默认值。\n",
    "\n",
    "# 注意观察参数`a`, 既可以`f(1)`,也可以`f(a=1)` 其可读性比第一种更好，建议使用f(a=1)。如果要强制使用`f(a=1)`，需要在前面添加一个**星号**:\n",
    "\n",
    "\n",
    "def f(*,a,**b):\n",
    "  print(f'a:{a},b:{b}')\n",
    "\n",
    "# 此时f(1)调用，将会报错：`TypeError: f() takes 0 positional arguments but 1 was given`\n",
    "\n",
    "# 只能`f(a=1)`才能OK.\n",
    "# f(1)\n",
    "f(a=1)\n",
    "\n",
    "\n"
   ],
   "metadata": {
    "collapsed": false,
    "pycharm": {
     "name": "#%%\n",
     "is_executing": false
    }
   }
  },
  {
   "cell_type": "code",
   "execution_count": 68,
   "outputs": [],
   "source": [
    "# 说明前面的`*`发挥作用，它变为只能传入关键字参数，那么如何查看这个参数的类型呢？借助python的`inspect`模块：\n",
    "\n",
    "\n",
    "# for name,val in signature(f).parameters.items():\n",
    "# \tprint(name,val.kind)\n",
    "\n",
    "# a KEYWORD_ONLY\n",
    "# b VAR_KEYWORD\n"
   ],
   "metadata": {
    "collapsed": false,
    "pycharm": {
     "name": "#%%\n",
     "is_executing": false
    }
   }
  },
  {
   "cell_type": "code",
   "execution_count": 69,
   "outputs": [],
   "source": [
    "# 可看到参数`a`的类型为`KEYWORD_ONLY`，也就是仅仅为关键字参数。\n",
    "\n",
    "# 但是，如果f定义为：\n",
    "\n",
    "def f(a,*b):\n",
    "  print(f'a:{a},b:{b}')\n",
    "\n",
    "\n",
    "# 查看参数类型：\n",
    "\n",
    "\n",
    "# for name,val in signature(f).parameters.items():\n",
    "# \tprint(name,val.kind)\n",
    "\n",
    "\n",
    "# a POSITIONAL_OR_KEYWORD\n",
    "# b VAR_POSITIONAL\n",
    "\n",
    "\n",
    "# 可以看到参数`a`既可以是位置参数也可是关键字参数。"
   ],
   "metadata": {
    "collapsed": false,
    "pycharm": {
     "name": "#%%\n",
     "is_executing": false
    }
   }
  },
  {
   "cell_type": "code",
   "execution_count": 70,
   "outputs": [
    {
     "name": "stdout",
     "text": [
      "[4, 2]\n"
     ],
     "output_type": "stream"
    },
    {
     "data": {
      "text/plain": "[5, 4, 3, 2, 1]"
     },
     "metadata": {},
     "output_type": "execute_result",
     "execution_count": 70
    }
   ],
   "source": [
    "# 生成关于蛋糕的序列cake1：\n",
    "\n",
    "\n",
    "cake1 = list(range(5,0,-1))\n",
    "\n",
    "b = cake1[1:10:2]\n",
    "\n",
    "print(b)\n",
    "# [4, 2]\n",
    "\n",
    "cake1\n",
    "# [5, 4, 3, 2, 1]"
   ],
   "metadata": {
    "collapsed": false,
    "pycharm": {
     "name": "#%%\n",
     "is_executing": false
    }
   }
  }
 ],
 "metadata": {
  "language_info": {
   "codemirror_mode": {
    "name": "ipython",
    "version": 2
   },
   "file_extension": ".py",
   "mimetype": "text/x-python",
   "name": "python",
   "nbconvert_exporter": "python",
   "pygments_lexer": "ipython2",
   "version": "2.7.6"
  },
  "kernelspec": {
   "name": "python3",
   "language": "python",
   "display_name": "Python 3"
  },
  "pycharm": {
   "stem_cell": {
    "cell_type": "raw",
    "source": [],
    "metadata": {
     "collapsed": false
    }
   }
  }
 },
 "nbformat": 4,
 "nbformat_minor": 0
}