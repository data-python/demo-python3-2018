{
 "cells": [
  {
   "cell_type": "code",
   "execution_count": 535,
   "metadata": {
    "collapsed": true,
    "pycharm": {
     "is_executing": false
    }
   },
   "outputs": [
    {
     "data": {
      "text/plain": "0"
     },
     "metadata": {},
     "output_type": "execute_result",
     "execution_count": 535
    }
   ],
   "source": [
    "# 在神经网络中，`relu`作为神经元的激活函数：\n",
    "def relu(x):\n",
    "    \"\"\"\n",
    "    x: 输入参数\n",
    "    return：输出relu值\n",
    "    \"\"\"\n",
    "    return max(0,x)   \n",
    "\n",
    "relu(5) # 5\n",
    "relu(-1) # 0"
   ]
  },
  {
   "cell_type": "code",
   "execution_count": 536,
   "outputs": [
    {
     "data": {
      "text/plain": "'0b1010'"
     },
     "metadata": {},
     "output_type": "execute_result",
     "execution_count": 536
    }
   ],
   "source": [
    "# 十进制转换为二进制：\n",
    "bin(10)                                                                 \n",
    "# Out[2]: '0b1010'\n",
    "\n",
    "\n"
   ],
   "metadata": {
    "collapsed": false,
    "pycharm": {
     "name": "#%%\n",
     "is_executing": false
    }
   }
  },
  {
   "cell_type": "code",
   "execution_count": 537,
   "outputs": [
    {
     "data": {
      "text/plain": "'0o11'"
     },
     "metadata": {},
     "output_type": "execute_result",
     "execution_count": 537
    }
   ],
   "source": [
    "# 十进制转换为八进制：\n",
    "\n",
    "oct(9)                                                                  \n",
    "# Out[3]: '0o11'\n"
   ],
   "metadata": {
    "collapsed": false,
    "pycharm": {
     "name": "#%%\n",
     "is_executing": false
    }
   }
  },
  {
   "cell_type": "code",
   "execution_count": 538,
   "outputs": [
    {
     "data": {
      "text/plain": "'0xf'"
     },
     "metadata": {},
     "output_type": "execute_result",
     "execution_count": 538
    }
   ],
   "source": [
    "# 十进制转换为十六进制：\n",
    "\n",
    "hex(15)                                                                 \n",
    "# Out[4]: '0xf'\n",
    "\n"
   ],
   "metadata": {
    "collapsed": false,
    "pycharm": {
     "name": "#%%\n",
     "is_executing": false
    }
   }
  },
  {
   "cell_type": "code",
   "execution_count": 539,
   "outputs": [
    {
     "data": {
      "text/plain": "11"
     },
     "metadata": {},
     "output_type": "execute_result",
     "execution_count": 539
    }
   ],
   "source": [
    "a = [1,4,2,3,1]\n",
    "\n",
    "sum(a)\n",
    "# Out[182]: 11"
   ],
   "metadata": {
    "collapsed": false,
    "pycharm": {
     "name": "#%%\n",
     "is_executing": false
    }
   }
  },
  {
   "cell_type": "code",
   "execution_count": 540,
   "outputs": [
    {
     "data": {
      "text/plain": "21"
     },
     "metadata": {},
     "output_type": "execute_result",
     "execution_count": 540
    }
   ],
   "source": [
    "sum(a,10) #求和的初始值为10\n",
    "# Out[185]: 21"
   ],
   "metadata": {
    "collapsed": false,
    "pycharm": {
     "name": "#%%\n",
     "is_executing": false
    }
   }
  },
  {
   "cell_type": "code",
   "execution_count": 541,
   "outputs": [
    {
     "data": {
      "text/plain": "'A'"
     },
     "metadata": {},
     "output_type": "execute_result",
     "execution_count": 541
    }
   ],
   "source": [
    "# 十进制整数对应的`ASCII字符`\n",
    "chr(65)\n",
    "# Out[1]: 'A'"
   ],
   "metadata": {
    "collapsed": false,
    "pycharm": {
     "name": "#%%\n",
     "is_executing": false
    }
   }
  },
  {
   "cell_type": "code",
   "execution_count": 542,
   "outputs": [
    {
     "data": {
      "text/plain": "65"
     },
     "metadata": {},
     "output_type": "execute_result",
     "execution_count": 542
    }
   ],
   "source": [
    "# 查看某个`ASCII字符`对应的十进制数\n",
    "ord('A')\n",
    "# Out[1]: 65"
   ],
   "metadata": {
    "collapsed": false,
    "pycharm": {
     "name": "#%%\n",
     "is_executing": false
    }
   }
  },
  {
   "cell_type": "code",
   "execution_count": 543,
   "outputs": [
    {
     "data": {
      "text/plain": "False"
     },
     "metadata": {},
     "output_type": "execute_result",
     "execution_count": 543
    }
   ],
   "source": [
    "# 所有元素都为真，返回 `True`，否则为`False`\n",
    "\n",
    "all([1,0,3,6])                                                          \n",
    "# Out[5]: False"
   ],
   "metadata": {
    "collapsed": false,
    "pycharm": {
     "name": "#%%\n",
     "is_executing": false
    }
   }
  },
  {
   "cell_type": "code",
   "execution_count": 544,
   "outputs": [
    {
     "data": {
      "text/plain": "True"
     },
     "metadata": {},
     "output_type": "execute_result",
     "execution_count": 544
    }
   ],
   "source": [
    "all([1,2,3])                                                            \n",
    "# Out[6]: True"
   ],
   "metadata": {
    "collapsed": false,
    "pycharm": {
     "name": "#%%\n",
     "is_executing": false
    }
   }
  },
  {
   "cell_type": "code",
   "execution_count": 545,
   "outputs": [
    {
     "data": {
      "text/plain": "False"
     },
     "metadata": {},
     "output_type": "execute_result",
     "execution_count": 545
    }
   ],
   "source": [
    "# 至少有一个元素为真返回`True`，否则`False`\n",
    "\n",
    "any([0,0,0,[]])                                                         \n",
    "# Out[7]: False\n"
   ],
   "metadata": {
    "collapsed": false,
    "pycharm": {
     "name": "#%%\n",
     "is_executing": false
    }
   }
  },
  {
   "cell_type": "code",
   "execution_count": 546,
   "outputs": [
    {
     "data": {
      "text/plain": "True"
     },
     "metadata": {},
     "output_type": "execute_result",
     "execution_count": 546
    }
   ],
   "source": [
    "any([0,0,1])                                                            \n",
    "# Out[8]: True"
   ],
   "metadata": {
    "collapsed": false,
    "pycharm": {
     "name": "#%%\n",
     "is_executing": false
    }
   }
  },
  {
   "cell_type": "code",
   "execution_count": 547,
   "outputs": [
    {
     "data": {
      "text/plain": "True"
     },
     "metadata": {},
     "output_type": "execute_result",
     "execution_count": 547
    }
   ],
   "source": [
    "# 测试一个对象是True, 还是False.\n",
    "\n",
    "bool([0,0,0])                                                           \n",
    "# True"
   ],
   "metadata": {
    "collapsed": false,
    "pycharm": {
     "name": "#%%\n",
     "is_executing": false
    }
   }
  },
  {
   "cell_type": "code",
   "execution_count": 548,
   "outputs": [
    {
     "data": {
      "text/plain": "False"
     },
     "metadata": {},
     "output_type": "execute_result",
     "execution_count": 548
    }
   ],
   "source": [
    "bool([])                                                               \n",
    "# False"
   ],
   "metadata": {
    "collapsed": false,
    "pycharm": {
     "name": "#%%\n",
     "is_executing": false
    }
   }
  },
  {
   "cell_type": "code",
   "execution_count": 549,
   "outputs": [
    {
     "data": {
      "text/plain": "True"
     },
     "metadata": {},
     "output_type": "execute_result",
     "execution_count": 549
    }
   ],
   "source": [
    "bool([1,0,1])                                                          \n",
    "# True"
   ],
   "metadata": {
    "collapsed": false,
    "pycharm": {
     "name": "#%%\n",
     "is_executing": false
    }
   }
  },
  {
   "cell_type": "code",
   "execution_count": 550,
   "outputs": [
    {
     "data": {
      "text/plain": "(1+2j)"
     },
     "metadata": {},
     "output_type": "execute_result",
     "execution_count": 550
    }
   ],
   "source": [
    "# 创建一个复数\n",
    "\n",
    "complex(1,2)\n",
    "# (1+2j)"
   ],
   "metadata": {
    "collapsed": false,
    "pycharm": {
     "name": "#%%\n",
     "is_executing": false
    }
   }
  },
  {
   "cell_type": "code",
   "execution_count": 551,
   "outputs": [
    {
     "data": {
      "text/plain": "(3, 1)"
     },
     "metadata": {},
     "output_type": "execute_result",
     "execution_count": 551
    }
   ],
   "source": [
    "# 分别取商和余数\n",
    "\n",
    "\n",
    "divmod(10,3)\n",
    "# (3, 1)\n"
   ],
   "metadata": {
    "collapsed": false,
    "pycharm": {
     "name": "#%%\n",
     "is_executing": false
    }
   }
  },
  {
   "cell_type": "code",
   "execution_count": 552,
   "outputs": [
    {
     "data": {
      "text/plain": "3.0"
     },
     "metadata": {},
     "output_type": "execute_result",
     "execution_count": 552
    }
   ],
   "source": [
    "# 将一个整数或数值型字符串转换为浮点数\n",
    "\n",
    "\n",
    "float(3)\n",
    "# 3.0"
   ],
   "metadata": {
    "collapsed": false,
    "pycharm": {
     "name": "#%%\n",
     "is_executing": false
    }
   }
  },
  {
   "cell_type": "code",
   "execution_count": 553,
   "outputs": [],
   "source": [
    "# 如果不能转化为浮点数，则会报`ValueError`:\n",
    "\n",
    "# float('a')\n",
    "\n",
    "# 这里会报错\n",
    "# ValueError: could not convert string to float: 'a'"
   ],
   "metadata": {
    "collapsed": false,
    "pycharm": {
     "name": "#%%\n",
     "is_executing": false
    }
   }
  },
  {
   "cell_type": "code",
   "execution_count": 554,
   "outputs": [
    {
     "data": {
      "text/plain": "18"
     },
     "metadata": {},
     "output_type": "execute_result",
     "execution_count": 554
    }
   ],
   "source": [
    "# int(x, base =10) , x可能为字符串或数值，将x 转换为一个普通整数。如果参数是字符串，那么它可能包含符号和小数点。如果超出了普通整数的表示范围，一个长整数被返回。  \n",
    "\n",
    "int('12',16)\n",
    "# Out[1]: 18"
   ],
   "metadata": {
    "collapsed": false,
    "pycharm": {
     "name": "#%%\n",
     "is_executing": false
    }
   }
  },
  {
   "cell_type": "code",
   "execution_count": 555,
   "outputs": [
    {
     "data": {
      "text/plain": "1"
     },
     "metadata": {},
     "output_type": "execute_result",
     "execution_count": 555
    }
   ],
   "source": [
    "# base为底的exp次幂，如果mod给出，取余\n",
    "\n",
    "pow(3, 2, 4)\n",
    "# 1\n"
   ],
   "metadata": {
    "collapsed": false,
    "pycharm": {
     "name": "#%%\n",
     "is_executing": false
    }
   }
  },
  {
   "cell_type": "code",
   "execution_count": 556,
   "outputs": [
    {
     "data": {
      "text/plain": "10.022"
     },
     "metadata": {},
     "output_type": "execute_result",
     "execution_count": 556
    }
   ],
   "source": [
    "# 四舍五入，`ndigits`代表小数点后保留几位：\n",
    "\n",
    "\n",
    "round(10.0222222, 3)\n",
    "# 10.022"
   ],
   "metadata": {
    "collapsed": false,
    "pycharm": {
     "name": "#%%\n",
     "is_executing": false
    }
   }
  },
  {
   "cell_type": "code",
   "execution_count": 557,
   "outputs": [
    {
     "data": {
      "text/plain": "10.1"
     },
     "metadata": {},
     "output_type": "execute_result",
     "execution_count": 557
    }
   ],
   "source": [
    "round(10.05,1)\n",
    "# 10.1"
   ],
   "metadata": {
    "collapsed": false,
    "pycharm": {
     "name": "#%%\n",
     "is_executing": false
    }
   }
  },
  {
   "cell_type": "code",
   "execution_count": 558,
   "outputs": [
    {
     "name": "stdout",
     "text": [
      "False\nTrue\n"
     ],
     "output_type": "stream"
    }
   ],
   "source": [
    "# 链式比较\n",
    "i = 3\n",
    "print(1 < i < 3)  # False\n",
    "print(1 < i <= 3)  # True"
   ],
   "metadata": {
    "collapsed": false,
    "pycharm": {
     "name": "#%%\n",
     "is_executing": false
    }
   }
  },
  {
   "cell_type": "code",
   "execution_count": 559,
   "outputs": [
    {
     "data": {
      "text/plain": "b'apple'"
     },
     "metadata": {},
     "output_type": "execute_result",
     "execution_count": 559
    }
   ],
   "source": [
    "# 字符串转换为字节类型\n",
    "\n",
    "\n",
    "s = \"apple\"                                                            \n",
    "bytes(s,encoding='utf-8')                                              \n",
    "# b'apple'"
   ],
   "metadata": {
    "collapsed": false,
    "pycharm": {
     "name": "#%%\n",
     "is_executing": false
    }
   }
  },
  {
   "cell_type": "code",
   "execution_count": 560,
   "outputs": [
    {
     "data": {
      "text/plain": "'100'"
     },
     "metadata": {},
     "output_type": "execute_result",
     "execution_count": 560
    }
   ],
   "source": [
    "# 任意对象转为字符串　　\n",
    "\n",
    "\n",
    "i = 100                                                                \n",
    "str(i)                                                                 \n",
    "# '100'"
   ],
   "metadata": {
    "collapsed": false,
    "pycharm": {
     "name": "#%%\n",
     "is_executing": false
    }
   }
  },
  {
   "cell_type": "code",
   "execution_count": 561,
   "outputs": [
    {
     "data": {
      "text/plain": "'[]'"
     },
     "metadata": {},
     "output_type": "execute_result",
     "execution_count": 561
    }
   ],
   "source": [
    "str([])                                                                \n",
    "'[]'"
   ],
   "metadata": {
    "collapsed": false,
    "pycharm": {
     "name": "#%%\n",
     "is_executing": false
    }
   }
  },
  {
   "cell_type": "code",
   "execution_count": 562,
   "outputs": [
    {
     "data": {
      "text/plain": "'()'"
     },
     "metadata": {},
     "output_type": "execute_result",
     "execution_count": 562
    }
   ],
   "source": [
    "str(tuple())                                                           \n",
    "# '()'"
   ],
   "metadata": {
    "collapsed": false,
    "pycharm": {
     "name": "#%%\n",
     "is_executing": false
    }
   }
  },
  {
   "cell_type": "code",
   "execution_count": 563,
   "outputs": [
    {
     "data": {
      "text/plain": "\"print('helloworld')\""
     },
     "metadata": {},
     "output_type": "execute_result",
     "execution_count": 563
    }
   ],
   "source": [
    "# 将字符串编译成python能识别或可执行的代码，也可以将文字读成字符串再编译。\n",
    "\n",
    "\n",
    "s  = \"print('helloworld')\"\n",
    "s"
   ],
   "metadata": {
    "collapsed": false,
    "pycharm": {
     "name": "#%%\n",
     "is_executing": false
    }
   }
  },
  {
   "cell_type": "code",
   "execution_count": 564,
   "outputs": [
    {
     "data": {
      "text/plain": "<code object <module> at 0x00D6EE90, file \"<string>\", line 1>"
     },
     "metadata": {},
     "output_type": "execute_result",
     "execution_count": 564
    }
   ],
   "source": [
    "r = compile(s,\"<string>\", \"exec\")\n",
    "    \n",
    "r\n",
    "# <code object <module> at 0x0000000005DE75D0, file \"<string>\", line 1>"
   ],
   "metadata": {
    "collapsed": false,
    "pycharm": {
     "name": "#%%    \n",
     "is_executing": false
    }
   }
  },
  {
   "cell_type": "code",
   "execution_count": 565,
   "outputs": [
    {
     "name": "stdout",
     "text": [
      "helloworld\n"
     ],
     "output_type": "stream"
    }
   ],
   "source": [
    "exec(r)\n",
    "# helloworld\n"
   ],
   "metadata": {
    "collapsed": false,
    "pycharm": {
     "name": "#%%    \n",
     "is_executing": false
    }
   }
  },
  {
   "cell_type": "code",
   "execution_count": 566,
   "outputs": [
    {
     "data": {
      "text/plain": "9"
     },
     "metadata": {},
     "output_type": "execute_result",
     "execution_count": 566
    }
   ],
   "source": [
    "# 将字符串str 当成有效的表达式来求值并返回计算结果取出字符串中内容\n",
    "\n",
    "s = \"1 + 3 +5\"\n",
    "eval(s)\n",
    "# 9\n"
   ],
   "metadata": {
    "collapsed": false,
    "pycharm": {
     "name": "#%%   \n",
     "is_executing": false
    }
   }
  },
  {
   "cell_type": "code",
   "execution_count": 567,
   "outputs": [
    {
     "name": "stdout",
     "text": [
      "i am tom,age 18\n"
     ],
     "output_type": "stream"
    }
   ],
   "source": [
    "# 格式化输出字符串，format(value, format_spec)实质上是调用了value的__format__(format_spec)方法。\n",
    "\n",
    "# | 3.1415926  | {:.2f}  | 3.14      | 保留小数点后两位             |\n",
    "# | ---------- | ------- | --------- | ---------------------------- |\n",
    "# | 3.1415926  | {:+.2f} | +3.14     | 带符号保留小数点后两位       |\n",
    "# | -1         | {:+.2f} | -1.00     | 带符号保留小数点后两位       |\n",
    "# | 2.71828    | {:.0f}  | 3         | 不带小数                     |\n",
    "# | 5          | {:0>2d} | 05        | 数字补零 (填充左边, 宽度为2) |\n",
    "# | 5          | {:x<4d} | 5xxx      | 数字补x (填充右边, 宽度为4)  |\n",
    "# | 10         | {:x<4d} | 10xx      | 数字补x (填充右边, 宽度为4)  |\n",
    "# | 1000000    | {:,}    | 1,000,000 | 以逗号分隔的数字格式         |\n",
    "# | 0.25       | {:.2%}  | 25.00%    | 百分比格式                   |\n",
    "# | 1000000000 | {:.2e}  | 1.00e+09  | 指数记法                     |\n",
    "# | 18         | {:>10d} | ' 18'     | 右对齐 (默认, 宽度为10)      |\n",
    "# | 18         | {:<10d} | '18 '     | 左对齐 (宽度为10)            |\n",
    "# | 18         | {:^10d} | ' 18 '    | 中间对齐 (宽度为10)  \n",
    "\n",
    "print(\"i am {0},age {1}\".format(\"tom\",18))\n",
    "# i am tom,age18"
   ],
   "metadata": {
    "collapsed": false,
    "pycharm": {
     "name": "#%% \n",
     "is_executing": false
    }
   }
  },
  {
   "cell_type": "code",
   "execution_count": 568,
   "outputs": [
    {
     "data": {
      "text/plain": "[4, 3, 2, 1, 1]"
     },
     "metadata": {},
     "output_type": "execute_result",
     "execution_count": 568
    }
   ],
   "source": [
    "# 排序\n",
    "\n",
    "a = [1,4,2,3,1]\n",
    "\n",
    "sorted(a,reverse=True)\n",
    "# [4, 3, 2, 1, 1]"
   ],
   "metadata": {
    "collapsed": false,
    "pycharm": {
     "name": "#%% \n",
     "is_executing": false
    }
   }
  },
  {
   "cell_type": "code",
   "execution_count": 569,
   "outputs": [
    {
     "data": {
      "text/plain": "[{'name': 'xiaoming', 'age': 18, 'gender': 'male'},\n {'name': 'xiaohong', 'age': 20, 'gender': 'female'}]"
     },
     "metadata": {},
     "output_type": "execute_result",
     "execution_count": 569
    }
   ],
   "source": [
    "a = [\n",
    "    {'name':'xiaoming','age':18,'gender':'male'},\n",
    "    {'name':'xiaohong','age':20,'gender':'female'}\n",
    "]\n",
    "\n",
    "sorted(a,key=lambda x: x['age'],reverse=False)\n",
    "\n",
    "# Out[4]:\n",
    "# [{'name': 'xiaoming', 'age': 18, 'gender': 'male'},\n",
    "#  {'name': 'xiaohong', 'age': 20, 'gender': 'female'}]"
   ],
   "metadata": {
    "collapsed": false,
    "pycharm": {
     "name": "#%% \n",
     "is_executing": false
    }
   }
  }
 ],
 "metadata": {
  "language_info": {
   "codemirror_mode": {
    "name": "ipython",
    "version": 2
   },
   "file_extension": ".py",
   "mimetype": "text/x-python",
   "name": "python",
   "nbconvert_exporter": "python",
   "pygments_lexer": "ipython2",
   "version": "2.7.6"
  },
  "kernelspec": {
   "name": "python3",
   "language": "python",
   "display_name": "Python 3"
  },
  "pycharm": {
   "stem_cell": {
    "cell_type": "raw",
    "source": [],
    "metadata": {
     "collapsed": false
    }
   }
  }
 },
 "nbformat": 4,
 "nbformat_minor": 0
}