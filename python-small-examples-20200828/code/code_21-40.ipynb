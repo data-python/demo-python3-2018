{
 "cells": [
  {
   "cell_type": "code",
   "execution_count": 39,
   "metadata": {
    "collapsed": true,
    "pycharm": {
     "is_executing": false,
     "name": "#%%\n"
    }
   },
   "outputs": [
    {
     "data": {
      "text/plain": "<function __main__.excepter.<locals>.wrapper()>"
     },
     "metadata": {},
     "output_type": "execute_result",
     "execution_count": 39
    }
   ],
   "source": [
    "# nonlocal用于内嵌函数中\n",
    "\n",
    "\n",
    "'''\n",
    "关键词`nonlocal`常用于函数嵌套中，声明变量`i`为非局部变量；\n",
    "如果不声明，`i+=1`表明`i`为函数`wrapper`内的局部变量，因为在`i+=1`引用(reference)时,i未被声明，所以会报`unreferenced variable`的错误。\n",
    "'''\n",
    "\n",
    "import time\n",
    "# n = 12\n",
    "\n",
    "def excepter(f):\n",
    "    i = 0\n",
    "    t1 = time.time()\n",
    "    def wrapper(): \n",
    "        try:\n",
    "            f()\n",
    "        except Exception as e:\n",
    "            nonlocal i\n",
    "            i += 1\n",
    "            print(f'{e.args[0]}: {i}')\n",
    "            t2 = time.time()\n",
    "            \n",
    "            # 这里报错??\n",
    "            if i == n:\n",
    "                print(f'spending time:{round(t2-t1,2)}')\n",
    "    return wrapper\n",
    "\n",
    "def do_nothing():\n",
    "    pass\n",
    "    \n",
    "excepter(do_nothing())\n",
    "\n",
    "# 输出 <function __main__.excepter.<locals>.wrapper()>\n",
    "\n"
   ]
  },
  {
   "cell_type": "code",
   "execution_count": 40,
   "outputs": [
    {
     "name": "stdout",
     "text": [
      "5\n5\n"
     ],
     "output_type": "stream"
    }
   ],
   "source": [
    "# global 声明全局变量\n",
    "# 先回答为什么要有`global`，一个变量被多个函数引用，想让全局变量被所有函数共享。有的伙伴可能会想这还不简单，这样写：\n",
    "i = 5\n",
    "def f():\n",
    "    print(i)\n",
    "\n",
    "def g():\n",
    "    print(i)\n",
    "    pass\n",
    "\n",
    "f()\n",
    "g()\n",
    "\n",
    "\n"
   ],
   "metadata": {
    "collapsed": false,
    "pycharm": {
     "name": "#%%\n",
     "is_executing": false
    }
   }
  },
  {
   "cell_type": "code",
   "execution_count": 41,
   "outputs": [],
   "source": [
    "# f和g两个函数都能共享变量`i`，程序没有报错，所以他们依然不明白为什么要用`global`.\n",
    "\n",
    "# 但是，如果我想要有个函数对`i`递增，这样：\n",
    "\n",
    "\n",
    "# i = 5\n",
    "# def h():\n",
    "#     i += 1\n",
    "# h()\n",
    "\n",
    "\n",
    "\n",
    "# 此时执行程序，bang, 出错了！ 抛出异常：`UnboundLocalError`，原来编译器在解释`i+=1`时会把`i`解析为函数`h()`内的局部变量，很显然在此函数内，编译器找不到对变量`i`的定义，所以会报错。"
   ],
   "metadata": {
    "collapsed": false,
    "pycharm": {
     "name": "#%%\n",
     "is_executing": false
    }
   }
  },
  {
   "cell_type": "code",
   "source": [
    "# `global`就是为解决此问题而被提出，在函数h内，显式地告诉编译器`i`为全局变量，然后编译器会在函数外面寻找`i`的定义，执行完`i+=1`后，`i`还为全局变量，值加1：\n",
    "\n",
    "i = 0\n",
    "def h():\n",
    "    global i\n",
    "    i += 1\n",
    "\n",
    "h()\n",
    "print(i)\n"
   ],
   "metadata": {
    "collapsed": false,
    "pycharm": {
     "name": "#%% \n",
     "is_executing": false
    }
   },
   "execution_count": 42,
   "outputs": [
    {
     "name": "stdout",
     "text": [
      "1\n"
     ],
     "output_type": "stream"
    }
   ]
  },
  {
   "cell_type": "code",
   "execution_count": 43,
   "outputs": [
    {
     "name": "stdout",
     "text": [
      "(0, 1)\n"
     ],
     "output_type": "stream"
    }
   ],
   "source": [
    "# 交换两元素\n",
    "\n",
    "\n",
    "def swap(a, b):\n",
    "    return b, a\n",
    "\n",
    "\n",
    "print(swap(1, 0))  # (0,1)\n"
   ],
   "metadata": {
    "collapsed": false,
    "pycharm": {
     "name": "#%%\n",
     "is_executing": false
    }
   }
  },
  {
   "cell_type": "code",
   "execution_count": 44,
   "outputs": [
    {
     "name": "stdout",
     "text": [
      "i'm g\n"
     ],
     "output_type": "stream"
    }
   ],
   "source": [
    "# 操作函数对象\n",
    "\n",
    "def f():\n",
    "    print('i\\'m f')\n",
    "\n",
    "\n",
    "def g():\n",
    "    print('i\\'m g')\n",
    "\n",
    "\n",
    "[f,g][1]()\n",
    "# i'm g\n",
    "\n",
    "\n",
    "# 创建函数对象的list，根据想要调用的index，方便统一调用。\n"
   ],
   "metadata": {
    "collapsed": false,
    "pycharm": {
     "name": "#%%\n",
     "is_executing": false
    }
   }
  },
  {
   "cell_type": "code",
   "execution_count": 45,
   "outputs": [
    {
     "data": {
      "text/plain": "[10, 9, 8, 7, 6, 5, 4, 3, 2, 1, 0]"
     },
     "metadata": {},
     "output_type": "execute_result",
     "execution_count": 45
    }
   ],
   "source": [
    "# 生成逆序序列\n",
    "\n",
    "\n",
    "list(range(10,-1,-1)) # [10, 9, 8, 7, 6, 5, 4, 3, 2, 1, 0]\n",
    "\n",
    "\n",
    "# 第三个参数为负时，表示从第一个参数开始递减，终止到第二个参数(不包括此边界)\n"
   ],
   "metadata": {
    "collapsed": false,
    "pycharm": {
     "name": "#%%\n",
     "is_executing": false
    }
   }
  }
 ],
 "metadata": {
  "language_info": {
   "codemirror_mode": {
    "name": "ipython",
    "version": 2
   },
   "file_extension": ".py",
   "mimetype": "text/x-python",
   "name": "python",
   "nbconvert_exporter": "python",
   "pygments_lexer": "ipython2",
   "version": "2.7.6"
  },
  "kernelspec": {
   "name": "python3",
   "language": "python",
   "display_name": "Python 3"
  },
  "pycharm": {
   "stem_cell": {
    "cell_type": "raw",
    "source": [],
    "metadata": {
     "collapsed": false
    }
   }
  }
 },
 "nbformat": 4,
 "nbformat_minor": 0
}