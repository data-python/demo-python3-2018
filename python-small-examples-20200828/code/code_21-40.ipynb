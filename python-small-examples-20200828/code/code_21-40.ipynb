{
 "cells": [
  {
   "cell_type": "code",
   "execution_count": 14,
   "metadata": {
    "collapsed": true,
    "pycharm": {
     "is_executing": false,
     "name": "#%%\n"
    }
   },
   "outputs": [
    {
     "data": {
      "text/plain": "<function __main__.excepter.<locals>.wrapper()>"
     },
     "metadata": {},
     "output_type": "execute_result",
     "execution_count": 14
    }
   ],
   "source": [
    "# nonlocal用于内嵌函数中\n",
    "\n",
    "\n",
    "'''\n",
    "关键词`nonlocal`常用于函数嵌套中，声明变量`i`为非局部变量；\n",
    "如果不声明，`i+=1`表明`i`为函数`wrapper`内的局部变量，因为在`i+=1`引用(reference)时,i未被声明，所以会报`unreferenced variable`的错误。\n",
    "'''\n",
    "\n",
    "import time\n",
    "# n = 12\n",
    "\n",
    "def excepter(f):\n",
    "    i = 0\n",
    "    t1 = time.time()\n",
    "    def wrapper(): \n",
    "        try:\n",
    "            f()\n",
    "        except Exception as e:\n",
    "            nonlocal i\n",
    "            i += 1\n",
    "            print(f'{e.args[0]}: {i}')\n",
    "            t2 = time.time()\n",
    "            \n",
    "            # 这里报错??\n",
    "            if i == n:\n",
    "                print(f'spending time:{round(t2-t1,2)}')\n",
    "    return wrapper\n",
    "\n",
    "def do_nothing():\n",
    "    pass\n",
    "    \n",
    "excepter(do_nothing())\n",
    "\n",
    "# 输出 <function __main__.excepter.<locals>.wrapper()>"
   ]
  }
 ],
 "metadata": {
  "language_info": {
   "codemirror_mode": {
    "name": "ipython",
    "version": 2
   },
   "file_extension": ".py",
   "mimetype": "text/x-python",
   "name": "python",
   "nbconvert_exporter": "python",
   "pygments_lexer": "ipython2",
   "version": "2.7.6"
  },
  "kernelspec": {
   "name": "python3",
   "language": "python",
   "display_name": "Python 3"
  },
  "pycharm": {
   "stem_cell": {
    "cell_type": "raw",
    "source": [],
    "metadata": {
     "collapsed": false
    }
   }
  }
 },
 "nbformat": 4,
 "nbformat_minor": 0
}