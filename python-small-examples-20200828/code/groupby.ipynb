{
 "cells": [
  {
   "cell_type": "code",
   "execution_count": 1,
   "metadata": {
    "collapsed": true,
    "pycharm": {
     "is_executing": false
    }
   },
   "outputs": [
    {
     "name": "stdout",
     "text": [
      "cloud\nsunny\ncloud\n"
     ],
     "output_type": "stream"
    }
   ],
   "source": [
    "a = [{'date': '2019-12-15', 'weather': 'cloud'},\n",
    " {'date': '2019-12-13', 'weather': 'sunny'},\n",
    " {'date': '2019-12-14', 'weather': 'cloud'}]\n",
    "\n",
    "\n",
    "from itertools import groupby\n",
    "for k, items in  groupby(a,key=lambda x:x['weather']):\n",
    "     print(k)"
   ]
  },
  {
   "cell_type": "code",
   "execution_count": 3,
   "outputs": [
    {
     "name": "stdout",
     "text": [
      "cloud\n{'date': '2019-12-15', 'weather': 'cloud'}\n{'date': '2019-12-14', 'weather': 'cloud'}\nsunny\n{'date': '2019-12-13', 'weather': 'sunny'}\n"
     ],
     "output_type": "stream"
    }
   ],
   "source": [
    "from itertools import groupby\n",
    "a = [{'date': '2019-12-15', 'weather': 'cloud'},\n",
    " {'date': '2019-12-13', 'weather': 'sunny'},\n",
    " {'date': '2019-12-14', 'weather': 'cloud'}]\n",
    "a.sort(key=lambda x: x['weather'])\n",
    "\n",
    "for k, items in  groupby(a,key=lambda x:x['weather']):\n",
    "     print(k)\n",
    "     for i in items:\n",
    "         print(i)\n",
    "\n",
    "\n",
    "\n",
    "\n"
   ],
   "metadata": {
    "collapsed": false,
    "pycharm": {
     "name": "#%%\n",
     "is_executing": false
    }
   }
  }
 ],
 "metadata": {
  "language_info": {
   "codemirror_mode": {
    "name": "ipython",
    "version": 2
   },
   "file_extension": ".py",
   "mimetype": "text/x-python",
   "name": "python",
   "nbconvert_exporter": "python",
   "pygments_lexer": "ipython2",
   "version": "2.7.6"
  },
  "kernelspec": {
   "name": "python3",
   "language": "python",
   "display_name": "Python 3"
  },
  "pycharm": {
   "stem_cell": {
    "cell_type": "raw",
    "source": [
     "\n"
    ],
    "metadata": {
     "collapsed": false
    }
   }
  }
 },
 "nbformat": 4,
 "nbformat_minor": 0
}